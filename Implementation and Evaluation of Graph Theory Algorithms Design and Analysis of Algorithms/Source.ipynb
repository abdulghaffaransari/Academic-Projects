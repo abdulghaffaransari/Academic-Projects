{
 "cells": [
  {
   "cell_type": "code",
   "execution_count": 1,
   "id": "853d58ed",
   "metadata": {},
   "outputs": [],
   "source": [
    "import matplotlib.pyplot as plt\n",
    "from numpy import *\n",
    "from numpy import inf\n",
    "import networkx as nx\n",
    "from networkx.algorithms.shortest_paths import weighted\n",
    "from networkx.algorithms.shortest_paths.dense import floyd_warshall\n",
    "\n",
    "G = nx.Graph()\n",
    "G2 = nx.Graph()"
   ]
  },
  {
   "cell_type": "markdown",
   "id": "3a538e57",
   "metadata": {},
   "source": [
    "### Exit Function"
   ]
  },
  {
   "cell_type": "code",
   "execution_count": 2,
   "id": "7bcb571a",
   "metadata": {},
   "outputs": [],
   "source": [
    "def EXIT():\n",
    "    print('\\n\\n\\n')\n",
    "    print('GROUP MEMBERS')\n",
    "    print('ABDUL GHAFFAR ANSARI')\n",
    "    print('MARYAM HUSSAIN')\n",
    "    exit()"
   ]
  },
  {
   "cell_type": "markdown",
   "id": "b71883aa",
   "metadata": {},
   "source": [
    "### Prim's Algorithm"
   ]
  },
  {
   "cell_type": "code",
   "execution_count": 3,
   "id": "2eed28a9",
   "metadata": {},
   "outputs": [],
   "source": [
    "def p_algo(no_of_nodes,Adjacency_Mat,f,line):\n",
    "    print(\"\\n\\nWelcome to Prim's Algorithm\\n\")\n",
    "    selected = [0]*no_of_nodes\n",
    "    e = 0\n",
    "    mst = 0\n",
    "    selected[int(line)] = True\n",
    "    while(e < no_of_nodes-1):\n",
    "        min = inf\n",
    "        x = 0\n",
    "        y = 0\n",
    "        for i  in range(no_of_nodes):\n",
    "               if(selected[i]):\n",
    "                    for j in range(no_of_nodes):\n",
    "                         if((not selected[j]) and Adjacency_Mat[i,j]):\n",
    "                              if(min > Adjacency_Mat[i,j]):\n",
    "                                   x = i\n",
    "                                   y = j\n",
    "        G2.add_edge(str(x),str(y))\n",
    "        mst+=Adjacency_Mat[x][y]\n",
    "        print(\"Edge (\"+ str(x) + \"  -->  \" + str(y) + \")  \" + \"Weight : \"+str(Adjacency_Mat[x][y]))\n",
    "        selected[y] = True\n",
    "        e+=1\n",
    "    print(\"MST = \",mst)"
   ]
  },
  {
   "cell_type": "markdown",
   "id": "8311b13d",
   "metadata": {},
   "source": [
    "### Kruskul Algorithm"
   ]
  },
  {
   "cell_type": "code",
   "execution_count": 4,
   "id": "df3ad079",
   "metadata": {},
   "outputs": [],
   "source": [
    "def find(i,parent):\n",
    "    while parent[i] != i:\n",
    "        i = parent[i]\n",
    "    return i\n",
    "def union(i, j,parent):\n",
    "    a = find(i,parent)\n",
    "    b = find(j,parent)\n",
    "    parent[a] = b\n",
    "\n",
    "def krus(Adjacency_Mat ,no_of_nodes,parent):\n",
    "    print(\"\\n\\nWelcome to Kruskul Algorithm\\n\")\n",
    "    mst = 0\n",
    "    for i in range(no_of_nodes):\n",
    "        parent[i] = i\n",
    "    e = 0\n",
    "    while e < no_of_nodes - 1:\n",
    "        min = inf\n",
    "        a = -1\n",
    "        b = -1\n",
    "        for i in range(no_of_nodes):\n",
    "            for j in range(no_of_nodes):\n",
    "                if find(i,parent) != find(j,parent) and Adjacency_Mat [i][j] < min:\n",
    "                    min = Adjacency_Mat [i][j]\n",
    "                    a = i\n",
    "                    b = j\n",
    "        union(a, b,parent)\n",
    "        print('Edge {}:({} -> {}) Weight:{}'.format(e, a, b, min))\n",
    "        e += 1\n",
    "        mst += min\n",
    "        G2.add_edge(str(a),str(b))\n",
    "    print(\"Minimum cost= {}\".format(mst))"
   ]
  },
  {
   "cell_type": "markdown",
   "id": "13983d42",
   "metadata": {},
   "source": [
    "### Bellman Ford"
   ]
  },
  {
   "cell_type": "code",
   "execution_count": 5,
   "id": "9f7ebc0c",
   "metadata": {},
   "outputs": [],
   "source": [
    "def bellman(Adjacency_Mat ,no_of_nodes,f,line):\n",
    "    print(\"\\n\\nWelcome to Bellman Ford Algorithm\\n\")\n",
    "    Dist =[inf] * no_of_nodes\n",
    "    parent = [-1]*no_of_nodes\n",
    "    Dist[int(line)] = 0\n",
    "    for i in range(no_of_nodes-1):\n",
    "          for e in G.edges():\n",
    "               if(Dist[int(e[0])] + Adjacency_Mat [int(e[0]),int(e[1])] < Dist[int(e[1])]):\n",
    "                    Dist[int(e[1])] = Dist[int(e[0])] + Adjacency_Mat [int(e[0]),int(e[1])]\n",
    "                    parent[int(e[1])] = int(e[0])\n",
    "               if(Dist[int(e[1])] + Adjacency_Mat [int(e[0]),int(e[1])] < Dist[int(e[0])]):\n",
    "                    Dist[int(e[0])] = Dist[int(e[1])] + Adjacency_Mat [int(e[0]),int(e[1])]\n",
    "                    parent[int(e[0])] = int(e[1])\n",
    "    for e in G.edges():\n",
    "          if(Dist[int(e[0])] != inf and (Dist[int(e[0])] + Adjacency_Mat [int(e[0]),int(e[1])] < Dist[int(e[1])])):\n",
    "               print (\"Negative cyles\")\n",
    "               exit(0)\n",
    "    print(\"Nodes       :    Weigths    :     Paths\")\n",
    "    for i in range(no_of_nodes):\n",
    "          print(int(line), \"  -  \",i,\"  :  \" ,Dist[i], end = \"         \")\n",
    "          j = i\n",
    "          Arr = []\n",
    "          while(parent[j] != -1):\n",
    "               G2.add_edge(str(parent[j]),str(j),)\n",
    "               Arr.append(j)\n",
    "               j = parent[j]\n",
    "          Arr.reverse()\n",
    "          for j in Arr:\n",
    "               print(j, end = \" \")\n",
    "          print()"
   ]
  },
  {
   "cell_type": "markdown",
   "id": "14edc4eb",
   "metadata": {},
   "source": [
    "### Dijkstra Algorithm"
   ]
  },
  {
   "cell_type": "code",
   "execution_count": 6,
   "id": "1e96391d",
   "metadata": {},
   "outputs": [],
   "source": [
    "def dijkstra_algo(Adjacency_Mat ,no_of_nodes,f,line):\n",
    "    print(\"\\n\\nWelcome to Dijkstra Algorithm\\n\")\n",
    "    dist = [inf] * no_of_nodes\n",
    "    parent = [-1] * no_of_nodes\n",
    "    dist[int(line)] = 0\n",
    "    Arr = []\n",
    "    for i in range (no_of_nodes):\n",
    "          Arr.append(i)\n",
    "    while (Arr):\n",
    "          minimum = inf\n",
    "          min_index = -1\n",
    "          for i in range (no_of_nodes):\n",
    "               if (dist[i] < minimum and i in Arr):\n",
    "                    minimum = dist[i]\n",
    "                    min_index = i\n",
    "          Arr.remove(min_index)\n",
    "          for i in range (no_of_nodes):\n",
    "               if (Adjacency_Mat [min_index][i] and i in Arr):\n",
    "                    if (dist[min_index] + Adjacency_Mat [min_index,i] < dist[i]):\n",
    "                         dist[i] = dist[min_index] + Adjacency_Mat [min_index,i]\n",
    "                         parent[i] = min_index\n",
    "    print(\"Nodes       :    Weigths    :     Paths\")\n",
    "    for i in range(no_of_nodes):\n",
    "          print(int(line), \"  -  \",i,\"  :  \" ,dist[i], end = \"         \")\n",
    "          j = i\n",
    "          Arr1 = []\n",
    "          while(parent[j] != -1):\n",
    "               G2.add_edge(str(parent[j]),str(j))\n",
    "               Arr1.append(j)\n",
    "               j = parent[j]\n",
    "          Arr1.reverse()\n",
    "          for j in Arr1:\n",
    "               print(j, end = \" \")\n",
    "          print()"
   ]
  },
  {
   "cell_type": "markdown",
   "id": "55275bd6",
   "metadata": {},
   "source": [
    "### Floyd Warshall Algorithm"
   ]
  },
  {
   "cell_type": "code",
   "execution_count": 7,
   "id": "f6c02eaf",
   "metadata": {},
   "outputs": [],
   "source": [
    "def floyd(Adjacency_Mat ,no_of_nodes):\n",
    "    print(\"\\n\\nWelcome to Floyd Warshall Algorithm\\n\")\n",
    "    parent = [-1]*no_of_nodes\n",
    "    for i in range (no_of_nodes):\n",
    "          for j in range(no_of_nodes):\n",
    "               print(Adjacency_Mat [i,j], end = \"  \")\n",
    "          print()\n",
    "    for i in range(no_of_nodes):\n",
    "          for j in range (no_of_nodes):\n",
    "               for k in range(no_of_nodes):\n",
    "                    if (Adjacency_Mat [j,k] > Adjacency_Mat [j,i] + Adjacency_Mat [i,k]):\n",
    "                         Adjacency_Mat [j,k] = Adjacency_Mat [j,i] + Adjacency_Mat [i,k]\n",
    "                         parent[k] = i\n",
    "                         parent[i] = j\n",
    "    for i in range (no_of_nodes):\n",
    "          G2.add_edge(str(i),str(parent[i]))\n",
    "    for i in range (no_of_nodes):\n",
    "          for j in range (no_of_nodes):\n",
    "               print(Adjacency_Mat [i,j], end = \"  \")\n",
    "          print()"
   ]
  },
  {
   "cell_type": "markdown",
   "id": "36f18e52",
   "metadata": {},
   "source": [
    "### Clustering Coefficient"
   ]
  },
  {
   "cell_type": "code",
   "execution_count": 8,
   "id": "e8af81e2",
   "metadata": {},
   "outputs": [],
   "source": [
    "def clustering(no_of_nodes):\n",
    "    print(\"\\n\\nWelcome to Clustering Coefficient Algorithm\\n\")\n",
    "    avgerage = 0.0\n",
    "    for i in range(no_of_nodes):\n",
    "          avgerage+=nx.clustering(G,str(i))\n",
    "    print(\"Clustering Cooeficient = \", avgerage/no_of_nodes)"
   ]
  },
  {
   "cell_type": "markdown",
   "id": "e51594bd",
   "metadata": {},
   "source": [
    "### Borůvka's algorithm"
   ]
  },
  {
   "cell_type": "code",
   "execution_count": 9,
   "id": "e8aa9880",
   "metadata": {},
   "outputs": [],
   "source": [
    "def COMB(e,Matrix):\n",
    "    e0 = -1\n",
    "    e1 = -1\n",
    "    for i in range(0,len(Matrix)):\n",
    "        if e[0] in Matrix[i]:\n",
    "            e0 = i\n",
    "        if e[1] in Matrix[i]:\n",
    "            e1 = i\n",
    "    Matrix[e0] += Matrix[e1]\n",
    "    del Matrix[e1]\n",
    "\n",
    "\n",
    "def Boruvka(Adjacency_Mat ,no_of_nodes):\n",
    "    mst=0\n",
    "    print(\"\\n\\nWelcome to Borůvka's Algorithm\\n\")\n",
    "    Matrix = []\n",
    "    for i in range(0,len(Adjacency_Mat )):\n",
    "          Matrix.append([i])\n",
    "    print(\"Main Grouping: \" + str(Matrix))\n",
    "    while (len(Matrix) > 1):\n",
    "          e = []\n",
    "          for component in Matrix:\n",
    "               m = [999,[0,0]]\n",
    "               for vertex in component:\n",
    "                    for i in range(0,len(Adjacency_Mat [0])):\n",
    "                         if i not in component and Adjacency_Mat [vertex][i] != 0:\n",
    "                              if (m[0] > Adjacency_Mat [vertex][i]):\n",
    "                                   m[0] = Adjacency_Mat [vertex][i]\n",
    "                                   m[1] = [vertex,i]\n",
    "               if (m[1][0] > m[1][1]):\n",
    "                    m[1][0], m[1][1] =  m[1][1],m[1][0]\n",
    "               if (m[1] not in e):\n",
    "                    e.append(m[1])\n",
    "          for E in e:\n",
    "               COMB(E,Matrix)\n",
    "          print(\"\\n\\nEdges: \" + str(e) + \"\\n Groupings: \" + str(Matrix))\n",
    "          for E in e:\n",
    "               a = str(E[0])\n",
    "               b = str(E[1])\n",
    "               mst+= Adjacency_Mat [int(a)][int(b)]\n",
    "               G2.add_edge(a,b)\n",
    "    print('MST: '+ str(mst))\n",
    "\n",
    "                \n"
   ]
  },
  {
   "cell_type": "markdown",
   "id": "b10a0ee7",
   "metadata": {},
   "source": [
    "### Read from file and create adjacency Matrix"
   ]
  },
  {
   "cell_type": "code",
   "execution_count": 10,
   "id": "00e21207",
   "metadata": {},
   "outputs": [],
   "source": [
    "def filing(file,option):\n",
    "    f= open(file)\n",
    "    for i in range(3):\n",
    "        line = f.readline()\n",
    "    no_of_nodes = int(line)\n",
    "    line = f.readline()\n",
    "    x = []\n",
    "    y = []\n",
    "    \n",
    "    \n",
    "    for i in range(no_of_nodes):\n",
    "         line = f.readline()\n",
    "         numbers = line.split()\n",
    "         x.append(float(numbers[1]))\n",
    "         y.append(float(numbers[2]))\n",
    "         G.add_node(str(i), pos = (x[i],y[i]))\n",
    "         G2.add_node(str(i), pos = (x[i],y[i]))\n",
    "    \n",
    "    \n",
    "    \n",
    "    plt.scatter(x,y)\n",
    "    plt.xlabel(\"X Coordinates\")\n",
    "    plt.ylabel(\"Y Coordinates\")\n",
    "    plt.show()\n",
    "    \n",
    "    print('ADJACENCY MATRIX')\n",
    "    Adjacency_Mat = array([[inf]* no_of_nodes]*no_of_nodes)\n",
    "    line = f.readline()\n",
    "    \n",
    "    for outer in range(no_of_nodes):\n",
    "         line = f.readline()\n",
    "         words = line.split()\n",
    "         Twords= len(words)\n",
    "         i = int(words[0])\n",
    "         for inner in range(1,Twords,4):\n",
    "             j = int(words[inner])\n",
    "             Adjacency_Mat[i,j] = float(words[inner+2])/1000000\n",
    "             Adjacency_Mat[j,i] = Adjacency_Mat[i,j]\n",
    "             if( not (i==j)):\n",
    "                    G.add_edge(str(i),str(j))\n",
    "#              if(j==4):\n",
    "#                 break\n",
    "        \n",
    "    for i in range(2):\n",
    "        line = f.readline()\n",
    "    \n",
    "    print('\\nSource Node is : '+str(line))   \n",
    "    print('\\nDestination Node is : '+str(j)+'\\n')\n",
    "    \n",
    "    \n",
    "    for i in range(no_of_nodes):\n",
    "         Adjacency_Mat[i,i] = 0\n",
    "    for i in range(no_of_nodes):\n",
    "         for j in range(no_of_nodes):\n",
    "             print(str.format('{0:5}', Adjacency_Mat[i,j]),end=\"  \")\n",
    "         print()\n",
    "    pos=nx.get_node_attributes(G,'pos')\n",
    "    nx.draw(G,pos,with_labels = True)\n",
    "    plt.show()\n",
    "    \n",
    "    \n",
    "    \n",
    "    if(option == 1):\n",
    "        p_algo(no_of_nodes,Adjacency_Mat,f,line)\n",
    "        nx.draw(G2,pos,with_labels = True)\n",
    "    elif(option == 2):\n",
    "        parent = [i for i in range(no_of_nodes)]\n",
    "        krus(Adjacency_Mat,no_of_nodes,parent)\n",
    "        nx.draw(G2,pos,with_labels = True)\n",
    "    elif(option == 3):\n",
    "        dijkstra_algo(Adjacency_Mat,no_of_nodes,f,line)\n",
    "        nx.draw(G2,pos,with_labels = True)\n",
    "    elif(option == 4):\n",
    "        bellman(Adjacency_Mat,no_of_nodes,f,line)\n",
    "        nx.draw(G2,pos,with_labels = True)\n",
    "    elif(option == 5):\n",
    "        floyd(Adjacency_Mat,no_of_nodes)\n",
    "    elif(option == 6):\n",
    "        clustering(no_of_nodes)\n",
    "    elif(option == 7):\n",
    "        Boruvka(Adjacency_Mat,no_of_nodes)\n",
    "        nx.draw(G2,pos,with_labels = True)\n",
    "    plt.show()"
   ]
  },
  {
   "cell_type": "markdown",
   "id": "6549f732",
   "metadata": {},
   "source": [
    "### Input Menu Function"
   ]
  },
  {
   "cell_type": "code",
   "execution_count": 11,
   "id": "cafb3c79",
   "metadata": {},
   "outputs": [],
   "source": [
    "def input_menu(option):\n",
    "    print('')\n",
    "    print('1: input10')\n",
    "    print('2: input20')\n",
    "    print('3: input30')\n",
    "    print('4: input40')\n",
    "    print('5: input50')\n",
    "    print('6: input60')\n",
    "    print('7: input70')\n",
    "    print('8: input80')\n",
    "    print('9: input90')\n",
    "    print('10: input100')\n",
    "    print('11: Back')\n",
    "    print('12: Exit')\n",
    "    \n",
    "    Input=int(input('Press Here : '))\n",
    "    if(Input == 11):\n",
    "        main_menu()\n",
    "    elif(Input == 12):\n",
    "        EXIT()\n",
    "    else:\n",
    "        Input=Input*10;\n",
    "        file='input'+str(Input)+'.txt'\n",
    "        print('You are going to open file : '+file)\n",
    "        filing(file,option)"
   ]
  },
  {
   "cell_type": "markdown",
   "id": "36649c64",
   "metadata": {},
   "source": [
    "### Main Menu"
   ]
  },
  {
   "cell_type": "code",
   "execution_count": 12,
   "id": "1f101bae",
   "metadata": {},
   "outputs": [
    {
     "name": "stdout",
     "output_type": "stream",
     "text": [
      "Graph Displaying System\n",
      "1: Prim's Algorithm\n",
      "2: Kruskal Algorithm\n",
      "3: Dijkstra Algorithm\n",
      "4: Bellman Ford Algorithm\n",
      "5: Floyd Warshall Algorithm\n",
      "6: Clustering Algorithm\n",
      "7: Borůvka's Algorithm\n",
      "8: Exit \n",
      "Select the Algorithm: 4\n",
      "\n",
      "1: input10\n",
      "2: input20\n",
      "3: input30\n",
      "4: input40\n",
      "5: input50\n",
      "6: input60\n",
      "7: input70\n",
      "8: input80\n",
      "9: input90\n",
      "10: input100\n",
      "11: Back\n",
      "12: Exit\n",
      "Press Here : 1\n",
      "You are going to open file : input10.txt\n"
     ]
    },
    {
     "data": {
      "image/png": "[encoded data removed]",
      "text/plain": [
       "<Figure size 432x288 with 1 Axes>"
      ]
     },
     "metadata": {
      "needs_background": "light"
     },
     "output_type": "display_data"
    },
    {
     "name": "stdout",
     "output_type": "stream",
     "text": [
      "ADJACENCY MATRIX\n",
      "\n",
      "Source Node is : 1\n",
      "\n",
      "Destination Node is : 3\n",
      "\n",
      "  0.0    inf    inf   54.0   30.0    inf   99.0    inf    inf    inf  \n",
      "  inf    0.0    inf   33.0   40.5   69.0    inf    inf    inf    inf  \n",
      "  inf    inf    0.0   30.0    inf   58.5   33.0    inf    inf    inf  \n",
      " 54.0   33.0   30.0    0.0   82.5    inf   18.0   33.0    inf   39.0  \n",
      " 30.0   40.5    inf   82.5    0.0   39.0   27.0   81.0   30.0   25.5  \n",
      "  inf   69.0   58.5    inf   39.0    0.0   39.0   54.0   84.0   82.5  \n",
      " 99.0    inf   33.0   18.0   27.0   39.0    0.0    inf   18.0   27.0  \n",
      "  inf    inf    inf   33.0   81.0   54.0    inf    0.0    inf    inf  \n",
      "  inf    inf    inf    inf   30.0   84.0   18.0    inf    0.0    inf  \n",
      "  inf    inf    inf   39.0   25.5   82.5   27.0    inf    inf    0.0  \n"
     ]
    },
    {
     "data": {
      "image/png": "[encoded data removed]",
      "text/plain": [
       "<Figure size 432x288 with 1 Axes>"
      ]
     },
     "metadata": {},
     "output_type": "display_data"
    },
    {
     "name": "stdout",
     "output_type": "stream",
     "text": [
      "\n",
      "\n",
      "Welcome to Bellman Ford Algorithm\n",
      "\n",
      "Nodes       :    Weigths    :     Paths\n",
      "1   -   0   :   70.5         4 0 \n",
      "1   -   1   :   0         \n",
      "1   -   2   :   63.0         3 2 \n",
      "1   -   3   :   33.0         3 \n",
      "1   -   4   :   40.5         4 \n",
      "1   -   5   :   69.0         5 \n",
      "1   -   6   :   51.0         3 6 \n",
      "1   -   7   :   66.0         3 7 \n",
      "1   -   8   :   69.0         3 6 8 \n",
      "1   -   9   :   66.0         4 9 \n"
     ]
    },
    {
     "data": {
      "image/png": "[encoded data removed]",
      "text/plain": [
       "<Figure size 432x288 with 1 Axes>"
      ]
     },
     "metadata": {},
     "output_type": "display_data"
    }
   ],
   "source": [
    "def main_menu():\n",
    "    print('Graph Displaying System')\n",
    "    print(\"1: Prim's Algorithm\")\n",
    "    print(\"2: Kruskal Algorithm\")\n",
    "    print(\"3: Dijkstra Algorithm\")\n",
    "    print(\"4: Bellman Ford Algorithm\")\n",
    "    print(\"5: Floyd Warshall Algorithm\")\n",
    "    print(\"6: Clustering Algorithm\")\n",
    "    print(\"7: Borůvka's Algorithm\")\n",
    "    print('8: Exit ')\n",
    "    \n",
    "    option=int(input(\"Select the Algorithm: \"))\n",
    "    if(option == 8):\n",
    "        EXIT()\n",
    "    else:\n",
    "        input_menu(option)\n",
    "main_menu()"
   ]
  }
 ],
 "metadata": {
  "kernelspec": {
   "display_name": "Python 3",
   "language": "python",
   "name": "python3"
  },
  "language_info": {
   "codemirror_mode": {
    "name": "ipython",
    "version": 3
   },
   "file_extension": ".py",
   "mimetype": "text/x-python",
   "name": "python",
   "nbconvert_exporter": "python",
   "pygments_lexer": "ipython3",
   "version": "3.8.8"
  }
 },
 "nbformat": 4,
 "nbformat_minor": 5
}
