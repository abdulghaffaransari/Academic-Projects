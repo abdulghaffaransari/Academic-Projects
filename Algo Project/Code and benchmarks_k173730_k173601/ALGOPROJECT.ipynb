{
 "cells": [
  {
   "cell_type": "code",
   "execution_count": 1,
   "metadata": {},
   "outputs": [
    {
     "ename": "AttributeError",
     "evalue": "module 'graphviz.backend' has no attribute 'ENCODING'",
     "output_type": "error",
     "traceback": [
      "\u001b[1;31m---------------------------------------------------------------------------\u001b[0m",
      "\u001b[1;31mAttributeError\u001b[0m                            Traceback (most recent call last)",
      "\u001b[1;32m<ipython-input-1-75c877bd641f>\u001b[0m in \u001b[0;36m<module>\u001b[1;34m\u001b[0m\n\u001b[0;32m      1\u001b[0m \u001b[1;32mfrom\u001b[0m \u001b[0mtkinter\u001b[0m \u001b[1;32mimport\u001b[0m \u001b[1;33m*\u001b[0m\u001b[1;33m\u001b[0m\u001b[1;33m\u001b[0m\u001b[0m\n\u001b[0;32m      2\u001b[0m \u001b[1;32mimport\u001b[0m \u001b[0mtkinter\u001b[0m \u001b[1;32mas\u001b[0m \u001b[0mtk\u001b[0m\u001b[1;33m\u001b[0m\u001b[1;33m\u001b[0m\u001b[0m\n\u001b[1;32m----> 3\u001b[1;33m \u001b[1;32mimport\u001b[0m \u001b[0mgraphviz\u001b[0m\u001b[1;33m\u001b[0m\u001b[1;33m\u001b[0m\u001b[0m\n\u001b[0m\u001b[0;32m      4\u001b[0m \u001b[1;32mfrom\u001b[0m \u001b[0mgraphviz\u001b[0m \u001b[1;32mimport\u001b[0m \u001b[0mGraph\u001b[0m\u001b[1;33m\u001b[0m\u001b[1;33m\u001b[0m\u001b[0m\n\u001b[0;32m      5\u001b[0m \u001b[1;32mimport\u001b[0m \u001b[0mpydotplus\u001b[0m\u001b[1;33m\u001b[0m\u001b[1;33m\u001b[0m\u001b[0m\n",
      "\u001b[1;32m~\\anaconda3\\lib\\site-packages\\graphviz\\__init__.py\u001b[0m in \u001b[0;36m<module>\u001b[1;34m\u001b[0m\n\u001b[0;32m     25\u001b[0m \"\"\"\n\u001b[0;32m     26\u001b[0m \u001b[1;33m\u001b[0m\u001b[0m\n\u001b[1;32m---> 27\u001b[1;33m \u001b[1;32mfrom\u001b[0m \u001b[1;33m.\u001b[0m\u001b[0mdot\u001b[0m \u001b[1;32mimport\u001b[0m \u001b[0mGraph\u001b[0m\u001b[1;33m,\u001b[0m \u001b[0mDigraph\u001b[0m\u001b[1;33m\u001b[0m\u001b[1;33m\u001b[0m\u001b[0m\n\u001b[0m\u001b[0;32m     28\u001b[0m \u001b[1;32mfrom\u001b[0m \u001b[1;33m.\u001b[0m\u001b[0mfiles\u001b[0m \u001b[1;32mimport\u001b[0m \u001b[0mSource\u001b[0m\u001b[1;33m\u001b[0m\u001b[1;33m\u001b[0m\u001b[0m\n\u001b[0;32m     29\u001b[0m \u001b[1;32mfrom\u001b[0m \u001b[1;33m.\u001b[0m\u001b[0mlang\u001b[0m \u001b[1;32mimport\u001b[0m \u001b[0mescape\u001b[0m\u001b[1;33m,\u001b[0m \u001b[0mnohtml\u001b[0m\u001b[1;33m\u001b[0m\u001b[1;33m\u001b[0m\u001b[0m\n",
      "\u001b[1;32m~\\anaconda3\\lib\\site-packages\\graphviz\\dot.py\u001b[0m in \u001b[0;36m<module>\u001b[1;34m\u001b[0m\n\u001b[0;32m     30\u001b[0m \u001b[1;33m\u001b[0m\u001b[0m\n\u001b[0;32m     31\u001b[0m \u001b[1;32mfrom\u001b[0m \u001b[1;33m.\u001b[0m \u001b[1;32mimport\u001b[0m \u001b[0mbackend\u001b[0m\u001b[1;33m\u001b[0m\u001b[1;33m\u001b[0m\u001b[0m\n\u001b[1;32m---> 32\u001b[1;33m \u001b[1;32mfrom\u001b[0m \u001b[1;33m.\u001b[0m \u001b[1;32mimport\u001b[0m \u001b[0mfiles\u001b[0m\u001b[1;33m\u001b[0m\u001b[1;33m\u001b[0m\u001b[0m\n\u001b[0m\u001b[0;32m     33\u001b[0m \u001b[1;32mfrom\u001b[0m \u001b[1;33m.\u001b[0m \u001b[1;32mimport\u001b[0m \u001b[0mlang\u001b[0m\u001b[1;33m\u001b[0m\u001b[1;33m\u001b[0m\u001b[0m\n\u001b[0;32m     34\u001b[0m \u001b[1;33m\u001b[0m\u001b[0m\n",
      "\u001b[1;32m~\\anaconda3\\lib\\site-packages\\graphviz\\files.py\u001b[0m in \u001b[0;36m<module>\u001b[1;34m\u001b[0m\n\u001b[0;32m     20\u001b[0m \u001b[1;33m\u001b[0m\u001b[0m\n\u001b[0;32m     21\u001b[0m \u001b[1;33m\u001b[0m\u001b[0m\n\u001b[1;32m---> 22\u001b[1;33m \u001b[1;32mclass\u001b[0m \u001b[0mBase\u001b[0m\u001b[1;33m(\u001b[0m\u001b[0mobject\u001b[0m\u001b[1;33m)\u001b[0m\u001b[1;33m:\u001b[0m\u001b[1;33m\u001b[0m\u001b[1;33m\u001b[0m\u001b[0m\n\u001b[0m\u001b[0;32m     23\u001b[0m \u001b[1;33m\u001b[0m\u001b[0m\n\u001b[0;32m     24\u001b[0m     \u001b[0m_engine\u001b[0m \u001b[1;33m=\u001b[0m \u001b[1;34m'dot'\u001b[0m\u001b[1;33m\u001b[0m\u001b[1;33m\u001b[0m\u001b[0m\n",
      "\u001b[1;32m~\\anaconda3\\lib\\site-packages\\graphviz\\files.py\u001b[0m in \u001b[0;36mBase\u001b[1;34m()\u001b[0m\n\u001b[0;32m     26\u001b[0m     \u001b[0m_format\u001b[0m \u001b[1;33m=\u001b[0m \u001b[1;34m'pdf'\u001b[0m\u001b[1;33m\u001b[0m\u001b[1;33m\u001b[0m\u001b[0m\n\u001b[0;32m     27\u001b[0m \u001b[1;33m\u001b[0m\u001b[0m\n\u001b[1;32m---> 28\u001b[1;33m     \u001b[0m_encoding\u001b[0m \u001b[1;33m=\u001b[0m \u001b[0mbackend\u001b[0m\u001b[1;33m.\u001b[0m\u001b[0mENCODING\u001b[0m\u001b[1;33m\u001b[0m\u001b[1;33m\u001b[0m\u001b[0m\n\u001b[0m\u001b[0;32m     29\u001b[0m \u001b[1;33m\u001b[0m\u001b[0m\n\u001b[0;32m     30\u001b[0m     \u001b[1;33m@\u001b[0m\u001b[0mproperty\u001b[0m\u001b[1;33m\u001b[0m\u001b[1;33m\u001b[0m\u001b[0m\n",
      "\u001b[1;31mAttributeError\u001b[0m: module 'graphviz.backend' has no attribute 'ENCODING'"
     ]
    }
   ],
   "source": [
    "from tkinter import *\n",
    "import tkinter as tk\n",
    "import graphviz\n",
    "from graphviz import Graph\n",
    "import pydotplus\n",
    "root=Tk()\n",
    "root.geometry(\"300x300\")\n",
    "\n",
    "v=tk.IntVar()\n",
    "\n",
    "\n",
    "\n",
    "frame=Frame(root)\n",
    "labelText=StringVar()\n",
    "label=Label(frame,textvariable=labelText)\n",
    "labelText.set(\"Select Input File\")\n",
    "label.pack()\n",
    "frame.pack()\n",
    "\n",
    "\n",
    "\n",
    "radioButton1=Radiobutton(root,variable=v,value=1,text=\"Input file of 10 nodes\").pack()\n",
    "radioButton2=Radiobutton(root,variable=v,value=2,text=\"Input file of 20 nodes\").pack()\n",
    "radioButton3=Radiobutton(root,variable=v,value=3,text=\"Input file of 30 nodes\").pack()\n",
    "radioButton4=Radiobutton(root,variable=v,value=4,text=\"Input file of 40 nodes\").pack()\n",
    "radioButton5=Radiobutton(root,variable=v,value=5,text=\"Input file of 50 nodes\").pack()\n",
    "radioButton6=Radiobutton(root,variable=v,value=6,text=\"Input file of 60 nodes\").pack()\n",
    "radioButton7=Radiobutton(root,variable=v,value=7,text=\"Input file of 70 nodes\").pack()\n",
    "radioButton8=Radiobutton(root,variable=v,value=8,text=\"Input file of 80 nodes\").pack()\n",
    "radioButton9=Radiobutton(root,variable=v,value=9,text=\"Input file of 90 nodes\").pack()\n",
    "radioButton10=Radiobutton(root,variable=v,value=10,text=\"Input file of 100 nodes\").pack()\n",
    "\n",
    "Submitbutton=Button(root,text=\"OK\",command=root.destroy).pack()\n",
    "\n",
    "root.mainloop()"
   ]
  },
  {
   "cell_type": "code",
   "execution_count": null,
   "metadata": {},
   "outputs": [],
   "source": [
    "if v.get()==1:\n",
    "    open_file = \"input10.txt\"\n",
    "if v.get()==2:\n",
    "    open_file = \"input20.txt\"\n",
    "if v.get()==3:\n",
    "    open_file = \"input30.txt\"\n",
    "if v.get()==4:\n",
    "    open_file = \"input40.txt\"\n",
    "if v.get()==5:\n",
    "    open_file = \"input50.txt\"\n",
    "if v.get()==6:\n",
    "    open_file = \"input60.txt\"\n",
    "if v.get()==7:\n",
    "    open_file = \"input70.txt\"\n",
    "if v.get()==8:\n",
    "    open_file = \"input80.txt\"\n",
    "if v.get()==9:\n",
    "    open_file = \"input90.txt\"\n",
    "if v.get()==10:\n",
    "    open_file = \"input100.txt\""
   ]
  },
  {
   "cell_type": "code",
   "execution_count": null,
   "metadata": {},
   "outputs": [],
   "source": [
    "import numpy as num_py #to make 2D array (we are using matrix method for graph)\n",
    "import os\n",
    "os.environ[\"PATH\"] += os.pathsep + 'C:\\Program Files (x86)\\graphviz-2.38\\release\\bin/'"
   ]
  },
  {
   "cell_type": "code",
   "execution_count": null,
   "metadata": {},
   "outputs": [],
   "source": [
    "file = open(open_file)"
   ]
  },
  {
   "cell_type": "code",
   "execution_count": null,
   "metadata": {},
   "outputs": [],
   "source": [
    "new_line = file.readlines()\n",
    "print(new_line)\n",
    "start_node=new_line[-1:] #last index of file(source node)"
   ]
  },
  {
   "cell_type": "code",
   "execution_count": null,
   "metadata": {},
   "outputs": [],
   "source": [
    "line = map(lambda s: s.strip(), new_line) #to remove \\n\n",
    "data = []\n",
    "for i in line:\n",
    "    data.append(i)\n",
    "print(data) #file without \\n\n",
    "print(line) #here line is an obj"
   ]
  },
  {
   "cell_type": "code",
   "execution_count": null,
   "metadata": {},
   "outputs": [],
   "source": [
    "line = list(line) \n",
    "print(line) #coverting line into list"
   ]
  },
  {
   "cell_type": "code",
   "execution_count": null,
   "metadata": {},
   "outputs": [],
   "source": [
    "number_of_node = int(new_line[2])\n",
    "print(number_of_node)"
   ]
  },
  {
   "cell_type": "code",
   "execution_count": null,
   "metadata": {},
   "outputs": [],
   "source": [
    "nodes_info = []\n",
    "for i in range(0, number_of_node):\n",
    "    l = new_line[i+4]\n",
    "    p1 = l.find('\\t')\n",
    "    p2 = l.find('\\t', p1+1, -1)\n",
    "    node_number = int(l[0:p1])\n",
    "    x_position = float(l[p1+2:p2])\n",
    "    y_position = float(l[p2+2:-1])\n",
    "    nodes_info += [[node_number, x_position, y_position]]"
   ]
  },
  {
   "cell_type": "code",
   "execution_count": null,
   "metadata": {},
   "outputs": [],
   "source": [
    "c = num_py.full((number_of_node, number_of_node), 9999999999, dtype='float64')\n",
    "for i in range(0, number_of_node):\n",
    "    c[i][i] = 0         \n",
    "    l = new_line[5+number_of_node+i]\n",
    "    io = int(l[0: l.find('\\t')])\n",
    "    s = l.find('\\t')\n",
    "    while True:\n",
    "        p1 = l.find('\\t', s, -1)\n",
    "        p2 = l.find('\\t', p1+1, -1) \n",
    "        if l[p1+1:p2] == '':\n",
    "            break\n",
    "        it = int(l[p1+1:p2])\n",
    "        p3 = l.find('\\t', p2+1, -1)\n",
    "        p4 = l.find('\\t', p3+1, -1)\n",
    "        cost = float(l[p3+1:p4]) / 10000000\n",
    "        if c[io][it] > cost:\n",
    "            c[io][it] = cost\n",
    "        s = p4 + 1\n",
    "starting_node = int(data[number_of_node+number_of_node+6]) #"
   ]
  },
  {
   "cell_type": "code",
   "execution_count": null,
   "metadata": {},
   "outputs": [],
   "source": [
    "for i in range(0, number_of_node):\n",
    "    for j in range(0, number_of_node):\n",
    "        if (c[i][j] >= 999999999):\n",
    "            c[i][j] = c[j][i] \n",
    "        if (c[i][j]!=c[j][i]):\n",
    "            c[i][j]=min(c[i][j],c[j][i])\n",
    "            c[j][i]=min(c[i][j],c[j][i])\n",
    "        print(c)\n"
   ]
  },
  {
   "cell_type": "code",
   "execution_count": null,
   "metadata": {},
   "outputs": [],
   "source": [
    "dot = Graph()\n",
    "for i in range(0, number_of_node):\n",
    "    dot.node(str(nodes_info[i][0]), str(nodes_info[i][0]), style=\"filled\", fillcolor=\"blue\") #node info type casted to string\n",
    "    \n",
    "import graphviz\n",
    "for i in range(0, number_of_node):\n",
    "    for j in range (0, number_of_node):\n",
    "        if c[i][j] <= 0 or c[i][j] >= 999999999:\n",
    "            continue\n",
    "        elif j<i:\n",
    "            dot.edge(str(i), str(j), str(c[i][j]) + ' Mbps', color=\"red\")"
   ]
  },
  {
   "cell_type": "code",
   "execution_count": null,
   "metadata": {},
   "outputs": [],
   "source": [
    "dot.render(filename=\"Input\", format=\"png\")"
   ]
  },
  {
   "cell_type": "code",
   "execution_count": null,
   "metadata": {},
   "outputs": [],
   "source": [
    "import networkx as nx   #to convert our matrix into graph\n",
    "G=nx.Graph()\n",
    "G.add_nodes_from([0,number_of_node])\n",
    "for i in range(0, number_of_node):\n",
    "    for j in range(0, number_of_node):\n",
    "        if c[i][j]>=99999999:\n",
    "            continue\n",
    "        else:\n",
    "            G.add_edge(i,j,weight=c[i][j])\n",
    "\n",
    "from networkx.algorithms import tree\n",
    "mst = tree.minimum_spanning_edges(G, algorithm='kruskal', data=True)\n",
    "edgelist = list(mst)\n",
    "print(edgelist)"
   ]
  },
  {
   "cell_type": "code",
   "execution_count": null,
   "metadata": {},
   "outputs": [],
   "source": [
    "dot1 = Graph()\n",
    "for i in range(0, number_of_node):\n",
    "    dot1.node(str(nodes_info[i][0]), str(nodes_info[i][0]), style=\"filled\", fillcolor=\"yellow\")\n",
    "    \n",
    "TC1=0    \n",
    "import graphviz\n",
    "for i in range(0, len(edgelist)):\n",
    "        dot1.edge(str(edgelist[i][0]), str(edgelist[i][1]), str(c[edgelist[i][0]][edgelist[i][1]]) + ' Mbps', color=\"red\") \n",
    "        TC1=TC1+c[edgelist[i][0]][edgelist[i][1]]\n",
    "        \n",
    "saveFile=open('Output.txt','w')\n",
    "saveFile.write(\"Total cost of Kruskal is \")\n",
    "saveFile.write(str(TC1))\n",
    "saveFile.write(\" Mbps\")\n",
    "saveFile.close()\n",
    "print(TC1)"
   ]
  },
  {
   "cell_type": "code",
   "execution_count": null,
   "metadata": {},
   "outputs": [],
   "source": [
    "dot1.render(filename=\"KRUSKAL\", format=\"png\")"
   ]
  },
  {
   "cell_type": "code",
   "execution_count": null,
   "metadata": {},
   "outputs": [],
   "source": [
    "mst1 = tree.minimum_spanning_edges(G, algorithm='prim', data=True)\n",
    "edgelist1 = list(mst1)"
   ]
  },
  {
   "cell_type": "code",
   "execution_count": null,
   "metadata": {},
   "outputs": [],
   "source": [
    "dot2 = Graph()\n",
    "for i in range(0, number_of_node):\n",
    "    dot2.node(str(nodes_info[i][0]), str(nodes_info[i][0]), style=\"filled\", fillcolor=\"yellow\")\n",
    "TC2=0    \n",
    "import graphviz\n",
    "for i in range(0, len(edgelist1)):\n",
    "        dot2.edge(str(edgelist1[i][0]), str(edgelist1[i][1]), str(c[edgelist1[i][0]][edgelist1[i][1]]) + ' Mbps', color=\"red\")\n",
    "        TC2=TC2+c[edgelist1[i][0]][edgelist1[i][1]]\n",
    "\n",
    "appendFile=open('Output.txt','a')\n",
    "appendFile.write(\"\\nTotal cost of Prim    is \")\n",
    "appendFile.write(str(TC2))\n",
    "appendFile.write(\" Mbps\")\n",
    "appendFile.close()\n",
    "print(TC2)"
   ]
  },
  {
   "cell_type": "code",
   "execution_count": null,
   "metadata": {},
   "outputs": [],
   "source": [
    "dot2.render(filename=\"PRIM\", format=\"png\")"
   ]
  },
  {
   "cell_type": "code",
   "execution_count": null,
   "metadata": {},
   "outputs": [],
   "source": [
    "import networkx as nx\n",
    "G=nx.Graph()\n",
    "G.add_nodes_from([0,number_of_node])\n",
    "for i in range(0, number_of_node):\n",
    "    for j in range(0, number_of_node):\n",
    "        if c[i][j]>=99999999:\n",
    "            continue\n",
    "        else:\n",
    "            G.add_edge(i,j,weight=c[i][j])\n",
    "\n",
    "TC3=0            \n",
    "length, path = nx.single_source_dijkstra(G,1)\n",
    "\n",
    "for i in range(0, number_of_node):\n",
    "    TC3=TC3+length[i]   "
   ]
  },
  {
   "cell_type": "code",
   "execution_count": null,
   "metadata": {},
   "outputs": [],
   "source": [
    "dot3 = Graph()\n",
    "for i in range(0, number_of_node):\n",
    "    dot3.node(str(nodes_info[i][0]), str(nodes_info[i][0]), style=\"filled\", fillcolor=\"yellow\")    \n",
    "import graphviz\n",
    "for i in range(0, len(path)):\n",
    "    if len(path[i])==1:\n",
    "        continue\n",
    "    else:\n",
    "        dot3.edge(str(path[i][len(path[i])-2]), str(path[i][len(path[i])-1]), str(c[path[i][len(path[i])-2]][path[i][len(path[i])-1]]) + ' Mbps', color=\"red\")\n",
    "       \n",
    "        \n",
    "\n",
    "appendFile=open('Output.txt','a')\n",
    "appendFile.write(\"\\nInput node is 1 and cost by Dijikstra    is \")\n",
    "appendFile.write(str(TC3))\n",
    "appendFile.write(\" Mbps\")\n",
    "appendFile.close()"
   ]
  },
  {
   "cell_type": "code",
   "execution_count": null,
   "metadata": {},
   "outputs": [],
   "source": [
    "dot3.render(filename=\"DIJIKSTRA\", format=\"png\")"
   ]
  },
  {
   "cell_type": "code",
   "execution_count": null,
   "metadata": {},
   "outputs": [],
   "source": [
    "import networkx as nx\n",
    "G=nx.Graph()\n",
    "G.add_nodes_from([0,number_of_node])\n",
    "for i in range(0, number_of_node):\n",
    "    for j in range(0, number_of_node):\n",
    "        if c[i][j]>=99999999:\n",
    "            continue\n",
    "        elif j<i:\n",
    "            G.add_edge(i,j,weight=c[i][j])\n",
    "TC4=0        \n",
    "path=nx.single_source_bellman_ford_path(G,1)\n",
    "\n",
    "for i in range(0, number_of_node):\n",
    "    for j in range(0, len(path[i])-1):\n",
    "        TC4=TC4+c[path[i][j]][path[i][j+1]]\n",
    "     "
   ]
  },
  {
   "cell_type": "code",
   "execution_count": null,
   "metadata": {},
   "outputs": [],
   "source": [
    "dot4 = Graph()\n",
    "for i in range(0, number_of_node):\n",
    "    dot4.node(str(nodes_info[i][0]), str(nodes_info[i][0]), style=\"filled\", fillcolor=\"yellow\")\n",
    "\n",
    "\n",
    "    \n",
    "import graphviz\n",
    "for i in range(0, len(path)):\n",
    "    if len(path[i])==1:\n",
    "        continue\n",
    "    else:\n",
    "        dot4.edge(str(path[i][len(path[i])-2]), str(path[i][len(path[i])-1]), str(c[path[i][len(path[i])-2]][path[i][len(path[i])-1]]) + ' Mbps', color=\"red\")\n",
    "        \n",
    "        \n",
    "        \n",
    "\n",
    "appendFile=open('Output.txt','a')\n",
    "appendFile.write(\"\\nInput node is 1 and cost by Bellman ford is \")\n",
    "appendFile.write(str(TC4))\n",
    "appendFile.write(\" Mbps\")\n",
    "appendFile.close()"
   ]
  },
  {
   "cell_type": "code",
   "execution_count": null,
   "metadata": {},
   "outputs": [],
   "source": [
    "dot4.render(filename=\"BELLMAN_FORD\", format=\"png\")"
   ]
  },
  {
   "cell_type": "code",
   "execution_count": null,
   "metadata": {},
   "outputs": [],
   "source": [
    "import networkx as nx\n",
    "G=nx.Graph()\n",
    "G.add_nodes_from([0,number_of_node-1])\n",
    "for i in range(0, number_of_node):\n",
    "    for j in range(0, number_of_node):\n",
    "        if c[i][j]>=99999999:\n",
    "            continue\n",
    "        elif j<i:\n",
    "            G.add_edge(i,j,weight=c[i][j])\n",
    "TC5=0 \n",
    "d=nx.floyd_warshall_numpy(G)\n",
    "for i in range(0, number_of_node):\n",
    "    for j in range(0, number_of_node):\n",
    "        TC5=TC5+d[i,j]"
   ]
  },
  {
   "cell_type": "code",
   "execution_count": null,
   "metadata": {},
   "outputs": [],
   "source": [
    "dot5 = Graph()\n",
    "for i in range(0, number_of_node):\n",
    "    dot5.node(str(nodes_info[i][0]), str(nodes_info[i][0]), style=\"filled\", fillcolor=\"yellow\")\n",
    "\n",
    "\n",
    "import graphviz\n",
    "for i in range(0, len(d)):\n",
    "    for j in range(0, len(d)):\n",
    "        if j<i:\n",
    "            dot5.edge(str(i), str(j), str(d[i,j]) + ' Mbps', color=\"red\")\n",
    "            \n",
    "appendFile=open('Output.txt','a')\n",
    "appendFile.write(\"\\nTotal cost by Floyd Warshall is \")\n",
    "appendFile.write(str(TC5))\n",
    "appendFile.write(\" Mbps\")\n",
    "appendFile.close()\n"
   ]
  },
  {
   "cell_type": "code",
   "execution_count": null,
   "metadata": {},
   "outputs": [],
   "source": [
    "dot5.render(filename=\"FLOYD_WARSHALL\", format=\"png\")"
   ]
  },
  {
   "cell_type": "code",
   "execution_count": null,
   "metadata": {},
   "outputs": [],
   "source": [
    "import networkx as nx\n",
    "G=nx.Graph()\n",
    "G.add_nodes_from([0,number_of_node-1])\n",
    "for i in range(0, number_of_node):\n",
    "    for j in range(0, number_of_node):\n",
    "        if c[i][j]>=99999999:\n",
    "            continue\n",
    "        else:        \n",
    "            G.add_edge(i,j,weight=c[i][j])\n",
    "\n",
    "d1=nx.clustering(G)\n",
    "d2=nx.average_clustering(G)\n",
    "appendFile=open('Output.txt','a')\n",
    "for i in range(0, number_of_node):\n",
    "    appendFile.write(\"\\nLocal Clustring Coefficient of node \")\n",
    "    appendFile.write(str(i))\n",
    "    appendFile.write(\" is \")\n",
    "    appendFile.write(str(d1[i]))\n",
    "\n",
    "appendFile.write(\"\\nThe final Clustring coeffecient is \")\n",
    "appendFile.write(str(d2))\n",
    "appendFile.close()"
   ]
  },
  {
   "cell_type": "code",
   "execution_count": null,
   "metadata": {},
   "outputs": [],
   "source": [
    "import numpy\n",
    "import cv2\n",
    "img=cv2.imread(\"INPUT.png\")\n",
    "cv2.imshow(\"Input File Visualization\",img)\n",
    "cv2.waitKey(4000)\n",
    "cv2.destroyAllWindows()"
   ]
  },
  {
   "cell_type": "code",
   "execution_count": null,
   "metadata": {},
   "outputs": [],
   "source": [
    "img1=cv2.imread(\"PRIM.png\")\n",
    "cv2.imshow(\"Prim Output Visualization\",img1)\n",
    "cv2.waitKey(4000)\n",
    "cv2.destroyAllWindows()"
   ]
  },
  {
   "cell_type": "code",
   "execution_count": null,
   "metadata": {},
   "outputs": [],
   "source": [
    "img2=cv2.imread(\"KRUSKAL.png\")\n",
    "cv2.imshow(\"Kruskal Output Visualization\",img2)\n",
    "cv2.waitKey(4000)\n",
    "cv2.destroyAllWindows()"
   ]
  },
  {
   "cell_type": "code",
   "execution_count": null,
   "metadata": {},
   "outputs": [],
   "source": [
    "img3=cv2.imread(\"DIJIKSTRA.png\")\n",
    "cv2.imshow(\"Dijikstra Output Visualization\",img3)\n",
    "cv2.waitKey(4000)\n",
    "cv2.destroyAllWindows()"
   ]
  },
  {
   "cell_type": "code",
   "execution_count": null,
   "metadata": {},
   "outputs": [],
   "source": [
    "img4=cv2.imread(\"BELLMAN_FORD.png\")\n",
    "cv2.imshow(\"Bellman Ford Output Visualization\",img4)\n",
    "cv2.waitKey(4000)\n",
    "cv2.destroyAllWindows()"
   ]
  },
  {
   "cell_type": "code",
   "execution_count": null,
   "metadata": {},
   "outputs": [],
   "source": [
    "img5=cv2.imread(\"FLOYD_WARSHALL.png\")\n",
    "cv2.imshow(\"Floyd Warshall Output Visualization\",img5)\n",
    "cv2.waitKey(4000)\n",
    "cv2.destroyAllWindows()"
   ]
  },
  {
   "cell_type": "code",
   "execution_count": null,
   "metadata": {},
   "outputs": [],
   "source": []
  },
  {
   "cell_type": "code",
   "execution_count": null,
   "metadata": {},
   "outputs": [],
   "source": []
  }
 ],
 "metadata": {
  "kernelspec": {
   "display_name": "Python 3",
   "language": "python",
   "name": "python3"
  },
  "language_info": {
   "codemirror_mode": {
    "name": "ipython",
    "version": 3
   },
   "file_extension": ".py",
   "mimetype": "text/x-python",
   "name": "python",
   "nbconvert_exporter": "python",
   "pygments_lexer": "ipython3",
   "version": "3.8.8"
  }
 },
 "nbformat": 4,
 "nbformat_minor": 2
}
